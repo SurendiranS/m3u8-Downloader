{
 "cells": [
  {
   "cell_type": "code",
   "execution_count": null,
   "metadata": {},
   "outputs": [],
   "source": [
    "import m3u8\n",
    "import requests\n",
    "import os\n",
    "from concurrent.futures import ThreadPoolExecutor"
   ]
  },
  {
   "cell_type": "code",
   "execution_count": null,
   "metadata": {},
   "outputs": [],
   "source": [
    "class StreamDownloader:\n",
    "    def __init__(self, maxThreads, segments, streamType):\n",
    "        self.maxThreads = maxThreads\n",
    "        self.streamType = streamType\n",
    "        self.segments = segments\n",
    "\n",
    "    def getProperties(self):\n",
    "        duration = sum([float(segment.duration) for segment in self.segments])\n",
    "        duration = f'{int(duration) // 3600}:{int(duration) // 60 % 60}:{int(duration) % 60}'\n",
    "        return (duration, len(self.segments))\n",
    "\n",
    "    def download(self, segmentFile, segmentUrl):\n",
    "        if (os.path.exists(segmentFile)):\n",
    "            print(f'Exist : {segmentFile}')\n",
    "            return\n",
    "        response = requests.get(segmentUrl, stream=True)\n",
    "        if response.status_code == 200:\n",
    "            with open(segmentFile + '.temp', 'wb') as f:\n",
    "                for chunk in response.iter_content(chunk_size=102400):\n",
    "                    f.write(chunk)\n",
    "            os.rename(segmentFile + '.temp', segmentFile)\n",
    "            print(f\"Downloaded: {segmentFile}\")\n",
    "        else:\n",
    "            print(f\"Failed to download segment: {segmentUrl}\")\n",
    "\n",
    "\n",
    "    def downloadSegments(self):\n",
    "        with ThreadPoolExecutor(max_workers=self.maxThreads,) as executor:\n",
    "            futures = []\n",
    "            for index, segment in enumerate(self.segments):\n",
    "                futures.append(executor.submit(self.download, f'{self.streamType}_{index}.ts', segment.uri))\n",
    "            if(input('Press any key to stop : ')):\n",
    "                executor.shutdown(wait=True, cancel_futures=True)\n",
    "\n",
    "\n",
    "    def mergeTs(self):\n",
    "        exportFile = f'{self.streamType}.ts'\n",
    "        with open(exportFile, 'wb') as outfile:\n",
    "            for index, segment in enumerate(self.segments):\n",
    "                with open(f'{self.streamType}_{index}.ts', 'rb') as input:\n",
    "                    outfile.write(input.read())\n",
    "        print(f'Final {self.streamType} file created : {exportFile}')\n",
    "\n"
   ]
  },
  {
   "cell_type": "code",
   "execution_count": null,
   "metadata": {},
   "outputs": [],
   "source": [
    "audioSegments = m3u8.load('au.txt').segments\n",
    "aSt = StreamDownloader(maxThreads=25, segments=audioSegments, streamType='audio')\n",
    "aSt.getProperties()\n"
   ]
  },
  {
   "cell_type": "code",
   "execution_count": null,
   "metadata": {},
   "outputs": [],
   "source": [
    "videoSegments = m3u8.load('v.txt').segments\n",
    "vSt = StreamDownloader(maxThreads=25, segments=videoSegments, streamType='video')\n",
    "vSt.getProperties()"
   ]
  },
  {
   "cell_type": "code",
   "execution_count": null,
   "metadata": {},
   "outputs": [],
   "source": []
  }
 ],
 "metadata": {
  "kernelspec": {
   "display_name": "down",
   "language": "python",
   "name": "python3"
  },
  "language_info": {
   "codemirror_mode": {
    "name": "ipython",
    "version": 3
   },
   "file_extension": ".py",
   "mimetype": "text/x-python",
   "name": "python",
   "nbconvert_exporter": "python",
   "pygments_lexer": "ipython3",
   "version": "3.11.3"
  }
 },
 "nbformat": 4,
 "nbformat_minor": 2
}
